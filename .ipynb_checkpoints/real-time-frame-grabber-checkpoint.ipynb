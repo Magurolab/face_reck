{
 "cells": [
  {
   "cell_type": "code",
   "execution_count": 3,
   "metadata": {},
   "outputs": [
    {
     "name": "stdout",
     "output_type": "stream",
     "text": [
      "[INFO] starting video stream...\n"
     ]
    },
    {
     "ename": "KeyboardInterrupt",
     "evalue": "",
     "output_type": "error",
     "traceback": [
      "\u001b[0;31m-----------------------------------------------------------\u001b[0m",
      "\u001b[0;31mKeyboardInterrupt\u001b[0m         Traceback (most recent call last)",
      "\u001b[0;32m<ipython-input-3-d0197957f441>\u001b[0m in \u001b[0;36m<module>\u001b[0;34m\u001b[0m\n\u001b[1;32m     84\u001b[0m     \u001b[0;31m# show the output frame\u001b[0m\u001b[0;34m\u001b[0m\u001b[0;34m\u001b[0m\u001b[0m\n\u001b[1;32m     85\u001b[0m         \u001b[0mcv2\u001b[0m\u001b[0;34m.\u001b[0m\u001b[0mimshow\u001b[0m\u001b[0;34m(\u001b[0m\u001b[0;34m\"Frame\"\u001b[0m\u001b[0;34m,\u001b[0m \u001b[0mframe\u001b[0m\u001b[0;34m)\u001b[0m\u001b[0;34m\u001b[0m\u001b[0m\n\u001b[0;32m---> 86\u001b[0;31m         \u001b[0mkey\u001b[0m \u001b[0;34m=\u001b[0m \u001b[0mcv2\u001b[0m\u001b[0;34m.\u001b[0m\u001b[0mwaitKey\u001b[0m\u001b[0;34m(\u001b[0m\u001b[0;36m1\u001b[0m\u001b[0;34m)\u001b[0m \u001b[0;34m&\u001b[0m \u001b[0;36m0xFF\u001b[0m\u001b[0;34m\u001b[0m\u001b[0m\n\u001b[0m\u001b[1;32m     87\u001b[0m \u001b[0;34m\u001b[0m\u001b[0m\n\u001b[1;32m     88\u001b[0m         \u001b[0;31m# if the `q` key was pressed, break from the loop\u001b[0m\u001b[0;34m\u001b[0m\u001b[0;34m\u001b[0m\u001b[0m\n",
      "\u001b[0;31mKeyboardInterrupt\u001b[0m: "
     ]
    }
   ],
   "source": [
    "from imutils.video import VideoStream\n",
    "from imutils.video import FPS\n",
    "import numpy as np\n",
    "import argparse\n",
    "import imutils\n",
    "import pickle\n",
    "import time\n",
    "import cv2\n",
    "import os\n",
    "\n",
    "# initialize the video stream, then allow the camera sensor to warm up\n",
    "print(\"[INFO] starting video stream...\")\n",
    "vs = VideoStream(src=0).start()\n",
    "time.sleep(2.0)\n",
    " \n",
    "# start the FPS throughput estimator\n",
    "fps = FPS().start()\n",
    " \n",
    "# loop over frames from the video file stream\n",
    "while True:\n",
    "\t# grab the frame from the threaded video stream\n",
    "\tframe = vs.read()\n",
    " \n",
    "\t# resize the frame to have a width of 600 pixels (while\n",
    "\t# maintaining the aspect ratio), and then grab the image\n",
    "\t# dimensions\n",
    "\tframe = imutils.resize(frame, width=600)\n",
    "\t(h, w) = frame.shape[:2]\n",
    " \n",
    "\t# construct a blob from the image\n",
    "\timageBlob = cv2.dnn.blobFromImage(\n",
    "\t\tcv2.resize(frame, (300, 300)), 1.0, (300, 300),\n",
    "\t\t(104.0, 177.0, 123.0), swapRB=False, crop=False)\n",
    " \n",
    "    # apply OpenCV's deep learning-based face detector to localize\n",
    "    # \t# faces in the input image\n",
    "    # \tdetector.setInput(imageBlob)\n",
    "    # \tdetections = detector.forward()\n",
    "    # loop over the detections\n",
    "# \tfor i in range(0, detections.shape[2]):\n",
    "# \t\t# extract the confidence (i.e., probability) associated with\n",
    "# \t\t# the prediction\n",
    "# \t\tconfidence = detections[0, 0, i, 2]\n",
    " \n",
    "# \t\t# filter out weak detections\n",
    "# \t\tif confidence > args[\"confidence\"]:\n",
    "# \t\t\t# compute the (x, y)-coordinates of the bounding box for\n",
    "# \t\t\t# the face\n",
    "# \t\t\tbox = detections[0, 0, i, 3:7] * np.array([w, h, w, h])\n",
    "# \t\t\t(startX, startY, endX, endY) = box.astype(\"int\")\n",
    " \n",
    "# \t\t\t# extract the face ROI\n",
    "# \t\t\tface = frame[startY:endY, startX:endX]\n",
    "# \t\t\t(fH, fW) = face.shape[:2]\n",
    " \n",
    "# \t\t\t# ensure the face width and height are sufficiently large\n",
    "# \t\t\tif fW < 20 or fH < 20:\n",
    "# \t\t\t\tcontinue\n",
    "#             # construct a blob for the face ROI, then pass the blob\n",
    "# \t\t\t# through our face embedding model to obtain the 128-d\n",
    "# \t\t\t# quantification of the face\n",
    "# \t\t\tfaceBlob = cv2.dnn.blobFromImage(face, 1.0 / 255,\n",
    "# \t\t\t\t(96, 96), (0, 0, 0), swapRB=True, crop=False)\n",
    "# \t\t\tembedder.setInput(faceBlob)\n",
    "# \t\t\tvec = embedder.forward()\n",
    " \n",
    "# \t\t\t# perform classification to recognize the face\n",
    "# \t\t\tpreds = recognizer.predict_proba(vec)[0]\n",
    "# \t\t\tj = np.argmax(preds)\n",
    "# \t\t\tproba = preds[j]\n",
    "# \t\t\tname = le.classes_[j]\n",
    " \n",
    "# \t\t\t# draw the bounding box of the face along with the\n",
    "# \t\t\t# associated probability\n",
    "# \t\t\ttext = \"{}: {:.2f}%\".format(name, proba * 100)\n",
    "# \t\t\ty = startY - 10 if startY - 10 > 10 else startY + 10\n",
    "# \t\t\tcv2.rectangle(frame, (startX, startY), (endX, endY),\n",
    "# \t\t\t\t(0, 0, 255), 2)\n",
    "# \t\t\tcv2.putText(frame, text, (startX, y),\n",
    "# \t\t\t\tcv2.FONT_HERSHEY_SIMPLEX, 0.45, (0, 0, 255), 2)\n",
    " \n",
    "\t# update the FPS counter\n",
    "\tfps.update()\n",
    "    # show the output frame\n",
    "\tcv2.imshow(\"Frame\", frame)\n",
    "\tkey = cv2.waitKey(1) & 0xFF\n",
    " \n",
    "\t# if the `q` key was pressed, break from the loop\n",
    "\tif key == ord(\"q\"):\n",
    "\t\tbreak\n",
    " \n",
    "# stop the timer and display FPS information\n",
    "fps.stop()\n",
    "print(\"[INFO] elasped time: {:.2f}\".format(fps.elapsed()))\n",
    "print(\"[INFO] approx. FPS: {:.2f}\".format(fps.fps()))\n",
    " \n",
    "# do a bit of cleanup\n",
    "cv2.destroyAllWindows()\n",
    "vs.stop()"
   ]
  },
  {
   "cell_type": "code",
   "execution_count": 2,
   "metadata": {},
   "outputs": [
    {
     "name": "stdout",
     "output_type": "stream",
     "text": [
      "Collecting imutils\n",
      "  Downloading https://files.pythonhosted.org/packages/5e/0c/659c2bdae8e8ca5ef810b9da02db28feaa29ea448ff36b65a1664ff28142/imutils-0.5.2.tar.gz\n",
      "Building wheels for collected packages: imutils\n",
      "  Building wheel for imutils (setup.py) ... \u001b[?25ldone\n",
      "\u001b[?25h  Stored in directory: /Users/hackinteachk./Library/Caches/pip/wheels/b2/40/59/139d450e68847ef2f27d876d527b13389dac23df0f66526b5d\n",
      "Successfully built imutils\n",
      "Installing collected packages: imutils\n",
      "Successfully installed imutils-0.5.2\n"
     ]
    }
   ],
   "source": [
    "!pip install imutils"
   ]
  },
  {
   "cell_type": "code",
   "execution_count": null,
   "metadata": {},
   "outputs": [],
   "source": []
  }
 ],
 "metadata": {
  "kernelspec": {
   "display_name": "Python 3",
   "language": "python",
   "name": "python3"
  },
  "language_info": {
   "codemirror_mode": {
    "name": "ipython",
    "version": 3
   },
   "file_extension": ".py",
   "mimetype": "text/x-python",
   "name": "python",
   "nbconvert_exporter": "python",
   "pygments_lexer": "ipython3",
   "version": "3.7.0"
  }
 },
 "nbformat": 4,
 "nbformat_minor": 2
}
